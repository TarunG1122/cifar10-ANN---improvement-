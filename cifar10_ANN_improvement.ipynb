{
  "cells": [
    {
      "cell_type": "code",
      "execution_count": null,
      "metadata": {
        "id": "ru6difedB5j0"
      },
      "outputs": [],
      "source": [
        "import tensorflow as tf\n",
        "import numpy as np\n",
        "import pandas as pd\n",
        "import matplotlib.pyplot as plt\n",
        "from tensorflow.keras.layers import Conv2D , Input , Dense , Flatten , Dropout , GlobalMaxPooling2D,MaxPooling2D ,BatchNormalization"
      ]
    },
    {
      "cell_type": "code",
      "execution_count": null,
      "metadata": {
        "colab": {
          "base_uri": "https://localhost:8080/"
        },
        "id": "HzMT-1x2FSA1",
        "outputId": "86a76515-49b9-4272-ba1d-21329c81b4a8"
      },
      "outputs": [
        {
          "name": "stdout",
          "output_type": "stream",
          "text": [
            "Downloading data from https://www.cs.toronto.edu/~kriz/cifar-10-python.tar.gz\n",
            "170500096/170498071 [==============================] - 14s 0us/step\n",
            "170508288/170498071 [==============================] - 14s 0us/step\n"
          ]
        }
      ],
      "source": [
        "cifar10 = tf.keras.datasets.cifar10\n",
        "(x_train,y_train),(x_test,y_test) = cifar10.load_data()"
      ]
    },
    {
      "cell_type": "code",
      "execution_count": null,
      "metadata": {
        "colab": {
          "base_uri": "https://localhost:8080/"
        },
        "id": "B7hyJmebFqMw",
        "outputId": "5bfb95b9-2af9-4536-e3de-685ce54085a8"
      },
      "outputs": [
        {
          "data": {
            "text/plain": [
              "(50000, 32, 32, 3)"
            ]
          },
          "execution_count": 3,
          "metadata": {},
          "output_type": "execute_result"
        }
      ],
      "source": [
        "x_train.shape"
      ]
    },
    {
      "cell_type": "code",
      "execution_count": null,
      "metadata": {
        "colab": {
          "base_uri": "https://localhost:8080/"
        },
        "id": "0MzdK-k-F9B0",
        "outputId": "2c4ddba0-83d6-44a0-8bf0-38ed07cba308"
      },
      "outputs": [
        {
          "data": {
            "text/plain": [
              "(50000, 1)"
            ]
          },
          "execution_count": 4,
          "metadata": {},
          "output_type": "execute_result"
        }
      ],
      "source": [
        "y_train.shape"
      ]
    },
    {
      "cell_type": "markdown",
      "metadata": {
        "id": "9PpSOGMIGmeN"
      },
      "source": [
        "#flatten y_test and Y_train\n"
      ]
    },
    {
      "cell_type": "code",
      "execution_count": null,
      "metadata": {
        "id": "AAYjeiqmFxSP"
      },
      "outputs": [],
      "source": [
        "y_train,y_test = y_train.flatten() ,y_test.flatten()"
      ]
    },
    {
      "cell_type": "code",
      "execution_count": null,
      "metadata": {
        "colab": {
          "base_uri": "https://localhost:8080/"
        },
        "id": "scUmRiQoGIuF",
        "outputId": "2311d1d5-047c-4175-dfb3-1b1b862599d8"
      },
      "outputs": [
        {
          "data": {
            "text/plain": [
              "(10000,)"
            ]
          },
          "execution_count": 6,
          "metadata": {},
          "output_type": "execute_result"
        }
      ],
      "source": [
        "y_test.shape"
      ]
    },
    {
      "cell_type": "code",
      "execution_count": null,
      "metadata": {
        "colab": {
          "base_uri": "https://localhost:8080/"
        },
        "id": "zc5TqZdtGtrb",
        "outputId": "99a92231-0296-4c7f-f979-fe01dae867a0"
      },
      "outputs": [
        {
          "name": "stdout",
          "output_type": "stream",
          "text": [
            "10\n"
          ]
        }
      ],
      "source": [
        "K = len(set(y_train))\n",
        "print(K)"
      ]
    },
    {
      "cell_type": "code",
      "execution_count": null,
      "metadata": {
        "id": "qiWGcDJHG3QX"
      },
      "outputs": [],
      "source": [
        "i = Input(shape = x_train[0].shape)\n",
        "x = Conv2D(32,(3,3) , activation='relu',padding = 'same')(i)\n",
        "x = BatchNormalization()(x)\n",
        "x = Conv2D(32,(3,3) , activation='relu',padding = 'same')(x)\n",
        "x = BatchNormalization()(x)\n",
        "x = MaxPooling2D((2,2))(x)\n",
        "x = Conv2D(64,(3,3), activation='relu',padding = 'same')(x)\n",
        "x = BatchNormalization()(x)\n",
        "x = Conv2D(64,(3,3) , activation='relu',padding = 'same')(x)\n",
        "x = BatchNormalization()(x)\n",
        "x = MaxPooling2D((2,2))(x)\n",
        "x = Conv2D(128,(3,3), activation='relu',padding = 'same')(x)\n",
        "x = BatchNormalization()(x)\n",
        "x = Conv2D(128,(3,3), activation='relu',padding = 'same')(x)\n",
        "x = BatchNormalization()(x)\n",
        "x = MaxPooling2D((2,2))(x)\n",
        "x = Flatten()(x)\n",
        "x = Dropout(0.2)(x)\n",
        "x = Dense(1024, activation='relu')(x)\n",
        "x = Dropout(0.2)(x)\n",
        "x = Dense(K, activation='softmax' )(x)"
      ]
    },
    {
      "cell_type": "code",
      "execution_count": null,
      "metadata": {
        "id": "TInPIpMYHEMD"
      },
      "outputs": [],
      "source": [
        "from tensorflow.keras.models import Model"
      ]
    },
    {
      "cell_type": "code",
      "execution_count": null,
      "metadata": {
        "id": "JgVU9Nq-HFGk"
      },
      "outputs": [],
      "source": [
        "model = Model(i,x)"
      ]
    },
    {
      "cell_type": "code",
      "execution_count": null,
      "metadata": {
        "colab": {
          "background_save": true,
          "base_uri": "https://localhost:8080/"
        },
        "id": "6Gxxh0FfHG4Q",
        "outputId": "45b9463d-1577-4bee-c797-22b8db8fcece"
      },
      "outputs": [
        {
          "name": "stdout",
          "output_type": "stream",
          "text": [
            "Epoch 1/15\n",
            "1563/1563 [==============================] - 17s 10ms/step - loss: 0.1349 - accuracy: 0.9556 - val_loss: 0.8292 - val_accuracy: 0.8160\n",
            "Epoch 2/15\n",
            "1563/1563 [==============================] - 12s 8ms/step - loss: 0.1214 - accuracy: 0.9597 - val_loss: 0.7415 - val_accuracy: 0.8199\n",
            "Epoch 3/15\n",
            "1563/1563 [==============================] - 11s 7ms/step - loss: 0.1153 - accuracy: 0.9619 - val_loss: 0.7144 - val_accuracy: 0.8271\n",
            "Epoch 4/15\n",
            "1563/1563 [==============================] - 11s 7ms/step - loss: 0.1054 - accuracy: 0.9647 - val_loss: 0.7418 - val_accuracy: 0.8312\n",
            "Epoch 5/15\n",
            "1563/1563 [==============================] - 11s 7ms/step - loss: 0.0995 - accuracy: 0.9670 - val_loss: 0.7879 - val_accuracy: 0.8304\n",
            "Epoch 6/15\n",
            "1563/1563 [==============================] - 11s 7ms/step - loss: 0.0910 - accuracy: 0.9694 - val_loss: 0.7817 - val_accuracy: 0.8274\n",
            "Epoch 7/15\n",
            "1563/1563 [==============================] - 11s 7ms/step - loss: 0.0866 - accuracy: 0.9711 - val_loss: 0.8384 - val_accuracy: 0.8256\n",
            "Epoch 8/15\n",
            "1563/1563 [==============================] - 11s 7ms/step - loss: 0.0857 - accuracy: 0.9716 - val_loss: 0.7270 - val_accuracy: 0.8340\n",
            "Epoch 9/15\n",
            "1563/1563 [==============================] - 10s 7ms/step - loss: 0.0830 - accuracy: 0.9731 - val_loss: 0.7513 - val_accuracy: 0.8334\n",
            "Epoch 10/15\n",
            "1563/1563 [==============================] - 11s 7ms/step - loss: 0.0763 - accuracy: 0.9749 - val_loss: 0.7734 - val_accuracy: 0.8369\n",
            "Epoch 11/15\n",
            "1563/1563 [==============================] - 11s 7ms/step - loss: 0.0746 - accuracy: 0.9758 - val_loss: 0.8142 - val_accuracy: 0.8313\n",
            "Epoch 12/15\n",
            "1563/1563 [==============================] - 10s 7ms/step - loss: 0.0739 - accuracy: 0.9755 - val_loss: 0.7460 - val_accuracy: 0.8235\n",
            "Epoch 13/15\n",
            "1563/1563 [==============================] - 11s 7ms/step - loss: 0.0642 - accuracy: 0.9789 - val_loss: 0.8854 - val_accuracy: 0.8260\n",
            "Epoch 14/15\n",
            "1563/1563 [==============================] - 11s 7ms/step - loss: 0.0691 - accuracy: 0.9770 - val_loss: 0.7847 - val_accuracy: 0.8284\n",
            "Epoch 15/15\n",
            "1563/1563 [==============================] - 13s 8ms/step - loss: 0.0650 - accuracy: 0.9788 - val_loss: 0.8332 - val_accuracy: 0.8350\n"
          ]
        },
        {
          "data": {
            "text/plain": [
              "<keras.callbacks.History at 0x7f4e5a03ced0>"
            ]
          },
          "execution_count": 17,
          "metadata": {},
          "output_type": "execute_result"
        }
      ],
      "source": [
        "model.compile(optimizer = 'adam',loss = 'sparse_categorical_crossentropy',metrics = ['accuracy'])\n",
        "\n",
        "model.fit(x_train,y_train,validation_data=(x_test,y_test),epochs = 15)"
      ]
    },
    {
      "cell_type": "code",
      "execution_count": null,
      "metadata": {
        "id": "dgWxxnrWfOFz",
        "colab": {
          "base_uri": "https://localhost:8080/"
        },
        "outputId": "11b57426-bb03-4e89-d73f-6942f2b6269d"
      },
      "outputs": [
        {
          "output_type": "stream",
          "name": "stdout",
          "text": [
            "Epoch 1/15\n",
            "1562/1562 [==============================] - 40s 26ms/step - loss: 0.0939 - accuracy: 0.9693 - val_loss: 0.6359 - val_accuracy: 0.8542\n",
            "Epoch 2/15\n",
            "1562/1562 [==============================] - 31s 20ms/step - loss: 0.0947 - accuracy: 0.9687 - val_loss: 0.7119 - val_accuracy: 0.8418\n",
            "Epoch 3/15\n",
            "1562/1562 [==============================] - 33s 21ms/step - loss: 0.0904 - accuracy: 0.9700 - val_loss: 0.6380 - val_accuracy: 0.8544\n",
            "Epoch 4/15\n",
            "1562/1562 [==============================] - 32s 20ms/step - loss: 0.0864 - accuracy: 0.9717 - val_loss: 0.6771 - val_accuracy: 0.8518\n",
            "Epoch 5/15\n",
            "1562/1562 [==============================] - 32s 20ms/step - loss: 0.0881 - accuracy: 0.9707 - val_loss: 0.7617 - val_accuracy: 0.8470\n",
            "Epoch 6/15\n",
            "1562/1562 [==============================] - 32s 20ms/step - loss: 0.0899 - accuracy: 0.9712 - val_loss: 0.6208 - val_accuracy: 0.8425\n",
            "Epoch 7/15\n",
            "1562/1562 [==============================] - 33s 21ms/step - loss: 0.0836 - accuracy: 0.9727 - val_loss: 0.7307 - val_accuracy: 0.8469\n",
            "Epoch 8/15\n",
            "1562/1562 [==============================] - 30s 20ms/step - loss: 0.0798 - accuracy: 0.9741 - val_loss: 0.6626 - val_accuracy: 0.8508\n",
            "Epoch 9/15\n",
            "1562/1562 [==============================] - 31s 20ms/step - loss: 0.0800 - accuracy: 0.9727 - val_loss: 0.6873 - val_accuracy: 0.8517\n",
            "Epoch 10/15\n",
            "1562/1562 [==============================] - 31s 20ms/step - loss: 0.0787 - accuracy: 0.9745 - val_loss: 0.6655 - val_accuracy: 0.8510\n",
            "Epoch 11/15\n",
            "1562/1562 [==============================] - 32s 20ms/step - loss: 0.0765 - accuracy: 0.9756 - val_loss: 0.6642 - val_accuracy: 0.8511\n",
            "Epoch 12/15\n",
            "1562/1562 [==============================] - 31s 20ms/step - loss: 0.0769 - accuracy: 0.9747 - val_loss: 0.7332 - val_accuracy: 0.8414\n",
            "Epoch 13/15\n",
            "1562/1562 [==============================] - 30s 19ms/step - loss: 0.0744 - accuracy: 0.9751 - val_loss: 0.7399 - val_accuracy: 0.8515\n",
            "Epoch 14/15\n",
            "1562/1562 [==============================] - 32s 21ms/step - loss: 0.0721 - accuracy: 0.9771 - val_loss: 0.6603 - val_accuracy: 0.8451\n",
            "Epoch 15/15\n",
            "1562/1562 [==============================] - 32s 20ms/step - loss: 0.0745 - accuracy: 0.9759 - val_loss: 0.7115 - val_accuracy: 0.8518\n"
          ]
        }
      ],
      "source": [
        "#fit with data augementation \n",
        "batch_size = 32\n",
        "data_generator = tf.keras.preprocessing.image.ImageDataGenerator(width_shift_range = 0.1)\n",
        "train_generator = data_generator.flow(x_train,y_train, batch_size)\n",
        "steps_per_epoch = x_train.shape[0] // batch_size\n",
        "r = model.fit(train_generator,validation_data=(x_test,y_test),steps_per_epoch = steps_per_epoch,epochs = 15)"
      ]
    },
    {
      "cell_type": "code",
      "execution_count": null,
      "metadata": {
        "id": "npUkAXHsUpFj"
      },
      "outputs": [],
      "source": [
        "labels = '''airplane automobile\n",
        "\n",
        "bird\n",
        "\n",
        "cat\n",
        "\n",
        "deer\n",
        "\n",
        "dog\n",
        "\n",
        "frog\n",
        "\n",
        "horse ship\n",
        "\n",
        "truck'''.split()"
      ]
    },
    {
      "cell_type": "code",
      "execution_count": null,
      "metadata": {
        "id": "Joi9NfXCUahC",
        "colab": {
          "base_uri": "https://localhost:8080/",
          "height": 299
        },
        "outputId": "afae68f4-5eb6-4a3e-b560-47446b169cb9"
      },
      "outputs": [
        {
          "output_type": "execute_result",
          "data": {
            "text/plain": [
              "Text(0.5, 1.0, 'true label : truck predicted = ship')"
            ]
          },
          "metadata": {},
          "execution_count": 24
        },
        {
          "output_type": "display_data",
          "data": {
            "text/plain": [
              "<Figure size 432x288 with 1 Axes>"
            ],
            "image/png": "[encoded data removed]"
          },
          "metadata": {
            "needs_background": "light"
          }
        }
      ],
      "source": [
        "\n",
        "import numpy as np\n",
        "p_test = model.predict(x_test).argmax(axis = 1)\n",
        "misclassified = np.where(p_test != y_test)[0]\n",
        "i = np.random.choice(misclassified)\n",
        "plt.imshow(x_test[i],cmap = 'gray')\n",
        "plt.title('true label : %s predicted = %s'%(labels[y_test[i]],labels[p_test[i]]))"
      ]
    },
    {
      "cell_type": "code",
      "execution_count": null,
      "metadata": {
        "id": "sScWueGRVcZ1"
      },
      "outputs": [],
      "source": [
        "from mlxtend.plotting import plot_confusion_matrix\n",
        "from sklearn.metrics import confusion_matrix"
      ]
    },
    {
      "cell_type": "code",
      "execution_count": null,
      "metadata": {
        "colab": {
          "base_uri": "https://localhost:8080/",
          "height": 565
        },
        "id": "2S3hE5zDVcWW",
        "outputId": "6913ca62-3129-43af-cc45-92098e8dc57f"
      },
      "outputs": [
        {
          "output_type": "error",
          "ename": "TypeError",
          "evalue": "ignored",
          "traceback": [
            "\u001b[0;31m---------------------------------------------------------------------------\u001b[0m",
            "\u001b[0;31mTypeError\u001b[0m                                 Traceback (most recent call last)",
            "\u001b[0;32m<ipython-input-26-5b1b20f7c017>\u001b[0m in \u001b[0;36m<module>\u001b[0;34m()\u001b[0m\n\u001b[1;32m      1\u001b[0m \u001b[0mmat\u001b[0m\u001b[0;34m=\u001b[0m \u001b[0mconfusion_matrix\u001b[0m\u001b[0;34m(\u001b[0m\u001b[0my_test\u001b[0m\u001b[0;34m,\u001b[0m \u001b[0mp_test\u001b[0m\u001b[0;34m)\u001b[0m\u001b[0;34m\u001b[0m\u001b[0;34m\u001b[0m\u001b[0m\n\u001b[0;32m----> 2\u001b[0;31m \u001b[0mplot_confusion_matrix\u001b[0m \u001b[0;34m(\u001b[0m\u001b[0mconf_mat\u001b[0m\u001b[0;34m=\u001b[0m\u001b[0mmat\u001b[0m\u001b[0;34m)\u001b[0m\u001b[0;34m\u001b[0m\u001b[0;34m\u001b[0m\u001b[0m\n\u001b[0m",
            "\u001b[0;32m/usr/local/lib/python3.7/dist-packages/mlxtend/plotting/plot_confusion_matrix.py\u001b[0m in \u001b[0;36mplot_confusion_matrix\u001b[0;34m(conf_mat, hide_spines, hide_ticks, figsize, cmap, colorbar, show_absolute, show_normed)\u001b[0m\n\u001b[1;32m    103\u001b[0m         \u001b[0max\u001b[0m\u001b[0;34m.\u001b[0m\u001b[0maxes\u001b[0m\u001b[0;34m.\u001b[0m\u001b[0mget_xaxis\u001b[0m\u001b[0;34m(\u001b[0m\u001b[0;34m)\u001b[0m\u001b[0;34m.\u001b[0m\u001b[0mset_ticks\u001b[0m\u001b[0;34m(\u001b[0m\u001b[0;34m[\u001b[0m\u001b[0;34m]\u001b[0m\u001b[0;34m)\u001b[0m\u001b[0;34m\u001b[0m\u001b[0;34m\u001b[0m\u001b[0m\n\u001b[1;32m    104\u001b[0m \u001b[0;34m\u001b[0m\u001b[0m\n\u001b[0;32m--> 105\u001b[0;31m     \u001b[0mplt\u001b[0m\u001b[0;34m.\u001b[0m\u001b[0mxlabel\u001b[0m\u001b[0;34m(\u001b[0m\u001b[0;34m'predicted label'\u001b[0m\u001b[0;34m)\u001b[0m\u001b[0;34m\u001b[0m\u001b[0;34m\u001b[0m\u001b[0m\n\u001b[0m\u001b[1;32m    106\u001b[0m     \u001b[0mplt\u001b[0m\u001b[0;34m.\u001b[0m\u001b[0mylabel\u001b[0m\u001b[0;34m(\u001b[0m\u001b[0;34m'true label'\u001b[0m\u001b[0;34m)\u001b[0m\u001b[0;34m\u001b[0m\u001b[0;34m\u001b[0m\u001b[0m\n\u001b[1;32m    107\u001b[0m     \u001b[0;32mreturn\u001b[0m \u001b[0mfig\u001b[0m\u001b[0;34m,\u001b[0m \u001b[0max\u001b[0m\u001b[0;34m\u001b[0m\u001b[0;34m\u001b[0m\u001b[0m\n",
            "\u001b[0;31mTypeError\u001b[0m: 'str' object is not callable"
          ]
        },
        {
          "output_type": "display_data",
          "data": {
            "text/plain": [
              "<Figure size 432x288 with 1 Axes>"
            ],
            "image/png": "[encoded data removed]"
          },
          "metadata": {
            "needs_background": "light"
          }
        }
      ],
      "source": [
        "mat= confusion_matrix(y_test, p_test)\n",
        "plot_confusion_matrix (conf_mat=mat)"
      ]
    },
    {
      "cell_type": "code",
      "execution_count": null,
      "metadata": {
        "colab": {
          "base_uri": "https://localhost:8080/"
        },
        "id": "iKvh0bEzUaaZ",
        "outputId": "f5998a97-e74e-474c-b099-55ac7a59810a"
      },
      "outputs": [
        {
          "data": {
            "text/plain": [
              "(array([3, 8, 8, ..., 5, 1, 7], dtype=uint8), array([3, 8, 8, ..., 5, 1, 7]))"
            ]
          },
          "execution_count": 16,
          "metadata": {},
          "output_type": "execute_result"
        }
      ],
      "source": [
        "y_test, p_test"
      ]
    }
  ],
  "metadata": {
    "accelerator": "GPU",
    "colab": {
      "provenance": [],
      "collapsed_sections": []
    },
    "gpuClass": "standard",
    "kernelspec": {
      "display_name": "Python 3",
      "name": "python3"
    },
    "language_info": {
      "name": "python"
    }
  },
  "nbformat": 4,
  "nbformat_minor": 0
}